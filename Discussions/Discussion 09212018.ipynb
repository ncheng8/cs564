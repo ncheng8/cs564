{
 "cells": [
  {
   "cell_type": "markdown",
   "metadata": {
    "slideshow": {
     "slide_type": "skip"
    }
   },
   "source": [
    "SQL Miscellanea\n",
    "-----"
   ]
  },
  {
   "cell_type": "code",
   "execution_count": null,
   "metadata": {
    "slideshow": {
     "slide_type": "skip"
    }
   },
   "outputs": [],
   "source": [
    "%load_ext sql\n",
    "%sql sqlite:///world-db"
   ]
  },
  {
   "cell_type": "markdown",
   "metadata": {
    "collapsed": true
   },
   "source": [
    "We can create views in SQL. Views are not stored as tables (materialized), but they can be used inside other SQL queries as normal tables."
   ]
  },
  {
   "cell_type": "code",
   "execution_count": null,
   "metadata": {},
   "outputs": [],
   "source": [
    "%%sql\n",
    "DROP VIEW OfficialCountryLanguage;\n",
    "\n",
    "CREATE VIEW OfficialCountryLanguage AS\n",
    "SELECT C.Name AS CountryName, L.Language AS Language\n",
    "FROM CountryLanguage L, Country C\n",
    "WHERE L.CountryCode = C.Code\n",
    "AND L.IsOfficial = 'T' ;"
   ]
  },
  {
   "cell_type": "code",
   "execution_count": null,
   "metadata": {},
   "outputs": [],
   "source": [
    "%sql SELECT * FROM OfficialCountryLanguage LIMIT 10;"
   ]
  },
  {
   "cell_type": "markdown",
   "metadata": {},
   "source": [
    "The `WITH` clause can be added before the `SELECT` statement to define a table that can be used in the main query statement."
   ]
  },
  {
   "cell_type": "code",
   "execution_count": null,
   "metadata": {},
   "outputs": [],
   "source": [
    "%%sql\n",
    "WITH C AS (SELECT Name, Continent\n",
    "      FROM Country\n",
    "      WHERE Population >50000000)\n",
    "SELECT C.Name\n",
    "FROM C\n",
    "WHERE C.Continent = 'Europe' ;"
   ]
  },
  {
   "cell_type": "markdown",
   "metadata": {},
   "source": [
    "**MEDIAN**\n",
    "\n",
    "In the following, we will show how one can compute the *median* of a table column using SQL. Recall that to compute the median of a (multi)set of *n* values, we first order the values; then, we return the middle number if *n* is odd, otherwise the average of the two middle numbers. \n",
    "\n",
    "We define the following table for our case:"
   ]
  },
  {
   "cell_type": "code",
   "execution_count": null,
   "metadata": {},
   "outputs": [],
   "source": [
    "%%sql\n",
    "DROP TABLE IF EXISTS R;\n",
    "CREATE TABLE R(A integer);\n",
    "INSERT INTO R Values (1),(5),(9),(3),(10),(10),(10),(25);"
   ]
  },
  {
   "cell_type": "markdown",
   "metadata": {},
   "source": [
    "We will first solve a simplified version of the median problem. Let's for now assume that:\n",
    "* the number of elements is odd\n",
    "* there are no duplicate values"
   ]
  },
  {
   "cell_type": "code",
   "execution_count": null,
   "metadata": {},
   "outputs": [],
   "source": [
    "%%sql\n",
    "SELECT X.A\n",
    "FROM R AS X\n",
    "WHERE (SELECT COUNT(*) FROM R AS X1 WHERE X.A > X1.A) \n",
    "= (SELECT COUNT(*) FROM R AS X2 WHERE X.A < X2.A);"
   ]
  },
  {
   "cell_type": "markdown",
   "metadata": {},
   "source": [
    "The above solution will not work if our two assumptions do not hold (why?). Let us rewrite the query so that we can solve the general median problem."
   ]
  },
  {
   "cell_type": "code",
   "execution_count": null,
   "metadata": {},
   "outputs": [],
   "source": [
    "%%sql\n",
    "SELECT AVG(DISTINCT X.A)\n",
    "FROM R AS X\n",
    "WHERE (SELECT COUNT(*) FROM R AS X1 WHERE X.A >= X1.A) \n",
    ">= (SELECT COUNT(*) FROM R AS X2 WHERE X.A < X2.A)\n",
    "AND (SELECT COUNT(*) FROM R AS X1 WHERE X.A > X1.A) \n",
    "<= (SELECT COUNT(*) FROM R AS X2 WHERE X.A <= X2.A);"
   ]
  },
  {
   "cell_type": "markdown",
   "metadata": {},
   "source": [
    "** Paths in Graphs**\n",
    "\n",
    "We will next show how we can compute some queries on a graph. Here, we represent the graph a single relation with schema `Edge(source, target, distance)`."
   ]
  },
  {
   "cell_type": "code",
   "execution_count": null,
   "metadata": {},
   "outputs": [],
   "source": [
    "%%sql\n",
    "DROP TABLE IF EXISTS Edge;\n",
    "CREATE TABLE Edge (source integer, target integer, distance integer);\n",
    "INSERT INTO Edge VALUES (1,2,10),(2,3,10),(3,4,20),(4,1,30),(1,3,5); "
   ]
  },
  {
   "cell_type": "markdown",
   "metadata": {},
   "source": [
    "The query below computes the number of outgoing edges for each vertex."
   ]
  },
  {
   "cell_type": "code",
   "execution_count": null,
   "metadata": {},
   "outputs": [],
   "source": [
    "%%sql\n",
    "SELECT source, COUNT(target)\n",
    "FROM Edge\n",
    "GROUP BY source;"
   ]
  },
  {
   "cell_type": "markdown",
   "metadata": {},
   "source": [
    "Next, we want to find all the directed paths of length 2 in the graph."
   ]
  },
  {
   "cell_type": "code",
   "execution_count": null,
   "metadata": {},
   "outputs": [],
   "source": [
    "%%sql\n",
    "SELECT e1.source, e1.target, e2.target\n",
    "FROM Edge e1, Edge e2\n",
    "WHERE e1.target = e2.source; "
   ]
  },
  {
   "cell_type": "markdown",
   "metadata": {},
   "source": [
    "Can we also compute the distance of each path?"
   ]
  },
  {
   "cell_type": "code",
   "execution_count": null,
   "metadata": {},
   "outputs": [],
   "source": [
    "%%sql\n",
    "SELECT e1.source, e1.target, e2.target, (e1.distance+e2.distance)\n",
    "FROM Edge e1, Edge e2\n",
    "WHERE e1.target = e2.source; "
   ]
  },
  {
   "cell_type": "markdown",
   "metadata": {},
   "source": [
    "How do we find all (directed) triangles in the graph?"
   ]
  },
  {
   "cell_type": "code",
   "execution_count": null,
   "metadata": {},
   "outputs": [],
   "source": [
    "%%sql\n",
    "SELECT e1.source, e2.source, e3.source\n",
    "FROM Edge e1, Edge e2, Edge e3\n",
    "WHERE e1.target = e2.source AND e2.target=e3.source AND e3.target = e1.source; "
   ]
  },
  {
   "cell_type": "markdown",
   "metadata": {},
   "source": [
    "** A few things on recursion**\n",
    "\n",
    "SQL allows recursion in the `WITH` clause."
   ]
  },
  {
   "cell_type": "code",
   "execution_count": null,
   "metadata": {},
   "outputs": [],
   "source": [
    "%%sql\n",
    "WITH RECURSIVE\n",
    "  cnt(x) AS (VALUES(1) UNION SELECT x+1 FROM cnt WHERE x<10)\n",
    "SELECT x FROM cnt;"
   ]
  },
  {
   "cell_type": "code",
   "execution_count": null,
   "metadata": {},
   "outputs": [],
   "source": [
    "%%sql\n",
    "WITH RECURSIVE\n",
    "    factorial(n,x) AS (\n",
    "        SELECT 1, 1\n",
    "        UNION\n",
    "        SELECT n+1, (n+1)*x FROM factorial WHERE n < 5)\n",
    "SELECT x FROM factorial ;"
   ]
  }
 ],
 "metadata": {
  "kernelspec": {
   "display_name": "Python 2",
   "language": "python",
   "name": "python2"
  },
  "language_info": {
   "codemirror_mode": {
    "name": "ipython",
    "version": 2
   },
   "file_extension": ".py",
   "mimetype": "text/x-python",
   "name": "python",
   "nbconvert_exporter": "python",
   "pygments_lexer": "ipython2",
   "version": "2.7.14"
  }
 },
 "nbformat": 4,
 "nbformat_minor": 1
}
